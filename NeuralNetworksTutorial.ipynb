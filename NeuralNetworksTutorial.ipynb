{
  "cells": [
    {
      "cell_type": "markdown",
      "metadata": {
        "colab_type": "text",
        "id": "view-in-github"
      },
      "source": [
        "<a href=\"https://colab.research.google.com/github/marcinwolter/SummerStudent_Tracking_2024/blob/main/NeuralNetworksTutorial.ipynb\" target=\"_parent\"><img src=\"https://colab.research.google.com/assets/colab-badge.svg\" alt=\"Open In Colab\"/></a>"
      ]
    },
    {
      "cell_type": "markdown",
      "metadata": {
        "id": "PSZKkOoLKIb0"
      },
      "source": [
        "<center>\n",
        "\n",
        "\n",
        "\n",
        "# **<font color = \"red\">Neural Networks - a short tutorial</font>**\n",
        "\n",
        "*10 July 2024*\n",
        "\n",
        "\n",
        "---\n",
        "\n",
        "*Marcin Wolter, Miłosz Zdybał IFJ PAN*\n",
        "\n",
        "*e-mail: marcin.wolter@ifj.edu.pl, milosz.zdybal@ifj.edu.pl*\n",
        "\n",
        "\n",
        "---\n",
        "</center>"
      ]
    },
    {
      "cell_type": "markdown",
      "metadata": {
        "id": "6Zv8I7LqIPOD"
      },
      "source": [
        "#<font color='green'>**Program for today:**\n",
        "\n",
        "\n",
        "* <font color='red'>Neural Networks (\"shallow neural nets\")</font>\n",
        "* <font color='red'>Introduction to Deep Neural Networks </font>\n",
        "* <font color='red'>Graph Neural Networks GNN </font>\n",
        "<br>\n",
        "\n",
        "\n",
        "\n",
        "\n",
        "<img src='https://raw.githubusercontent.com/marcinwolter/Machine-learning-KISD-2022/main/images/lecture5/Screenshot%20from%202022-03-20%2020-41-56.png' width=600px>\n",
        "\n"
      ]
    },
    {
      "cell_type": "markdown",
      "metadata": {
        "id": "qeM-yKw3sVa9"
      },
      "source": [
        "\n",
        "\n",
        "---\n",
        "\n",
        "---\n",
        "\n",
        "\n",
        "\n",
        "\n",
        "\n",
        "---\n",
        "\n"
      ]
    },
    {
      "cell_type": "markdown",
      "metadata": {
        "id": "On0itDMrCAkr"
      },
      "source": [
        "<center>\n",
        "\n",
        "#<font color='green'> **NEURAL NETWORKS**\n",
        "\n",
        "</center>"
      ]
    },
    {
      "cell_type": "markdown",
      "metadata": {
        "id": "OqajRqsOpZ1R"
      },
      "source": [
        "#**Explaining neural networks in raw Python: lectures in Jupyter**\n",
        "**<font color='red'>Highly recommended lecture by prof. Broniowski**\n",
        "\n",
        "These lectures were originally given to undergraduate students of computer engineering at the Jan Kochanowski University in Kielce, Poland, and for the Kraków School of Interdisciplinary PhD Studies.\n",
        "\n",
        "They explain the very basic concepts of neural networks at a most elementary level, requiring only very rudimentary knowledge of Python, or actually any programming language. With simplicity in mind, the code for various algorithms of neural networks is written from absolute scratch, i.e. without any use of dedicated higher-level libraries. That way one can follow all the programming steps in an explicit manner.\n",
        "\n",
        "\n",
        "\n",
        "https://bronwojtek.github.io/neuralnets-in-raw-python/docs/index.html\n"
      ]
    },
    {
      "cell_type": "markdown",
      "metadata": {
        "id": "UIY3QRG2n62C"
      },
      "source": [
        "\n",
        "#<font color='green'> **Inspired by human brain**\n",
        "\n",
        "<img src='https://raw.githubusercontent.com/marcinwolter/Machine-learning-KISD-2022/main/images/lecture5/inspired-by-human-brain-0.png' width=350px>\n",
        "\n",
        "- **Human brain:**\n",
        "  - $10^{14}$ neurons, frequency 100 Hz\n",
        "  - Parallel processing of data (complex pattern recognition in 100 ms - 10 steps only!!!)\n",
        "  - Learns on examples\n",
        "  - Resistant for errors and damaged neurons\n",
        "- **Neural Network:**\n",
        "  - Just an algorithm, which might not reflect the way the brain is working.\n",
        "\n",
        "\n",
        "\n",
        "#<font color='green'> **History**\n",
        "\n",
        "- 1938 - N. Rashevsky, neurodynamics – neural networks as dynamic systems, recurrent networks;\n",
        "- 1943 - W. McCulloch, W. Pitts, neural networks=logic systems;\n",
        "- 1958 - F. Rosenblatt, perceptron, network as a function;\n",
        "- 1973 - Chr. von der Malsburg, self-orgnization in the brain;\n",
        "- 1982 - Kohonen, Self-Organizing Maps\n",
        "- ...\n",
        "- 1986 - backpropagation of errors, many application!\n",
        "- …\n",
        "- 2010 - Deep Neural Networks – great progress in AI!!!!!!\n",
        "\n",
        "\n"
      ]
    },
    {
      "cell_type": "markdown",
      "metadata": {
        "id": "XM2NTYnO8bHV"
      },
      "source": [
        "#<font color='green'> **Artificial Neural Network**\n",
        "\n",
        "  - **Neural Network** – a mathematical model which is composed out of many functions (typically nonlinear)\n",
        "  - **Tasks:**\n",
        "    - Event classification\n",
        "     - background vs signal classification\n",
        "    - Regression\n",
        "     * approximation of a real function\n",
        "  - **Two types of networks:**\n",
        "    - Feed forward\n",
        "     -  information is sent from input layer to output without any loops\n",
        "    - Recurrent\n",
        "     - recurrent loops.\n",
        "  - **Learning:**\n",
        "    - supervised\n",
        "    - unsupervised\n",
        "\n",
        "\n",
        "<img src='https://raw.githubusercontent.com/marcinwolter/Machine-learning-KISD-2022/main/images/lecture5/slide-6-image-0.gif' width=450px>\n",
        "\n",
        "*Feed-forward (left) and recurrent (right) neural networks.*"
      ]
    },
    {
      "cell_type": "markdown",
      "metadata": {
        "id": "FzG8iTb7BQst"
      },
      "source": [
        "#<font color='green'>**Neuron – the basic element**\n",
        "\n",
        "<img src='https://raw.githubusercontent.com/marcinwolter/Machine-learning-KISD-2022/main/images/lecture5/neuron-the-basic-element-2.jpg'>\n",
        "\n",
        "<img src='https://raw.githubusercontent.com/marcinwolter/Machine-learning-KISD-2022/main/images/lecture5/neuron-the-basic-element-0.gif' width=350 px>\n",
        "\n",
        "  - Function of a weighted average of inputs $y_i = f(\\sum w_{ij} y_j)$  \n",
        "  - Function\n",
        "  $f$ is called an activation function\n",
        "\n",
        "\n",
        "\n",
        "\n",
        "\n",
        "\n",
        "## **Typical activation functions:**\n",
        "\n",
        "<img src='https://raw.githubusercontent.com/marcinwolter/Machine-learning-KISD-2022/main/images/lecture5/typical-activation-functions-1.png' width=450px>\n",
        "\n",
        "* Linear (the whole network is called “linear”)\n",
        "$$y=x$$\n",
        "\n",
        "<img src='https://raw.githubusercontent.com/marcinwolter/Machine-learning-KISD-2022/main/images/lecture5/typical-activation-functions-3.png' width=450px>\n",
        "\n",
        "* Logistic\n",
        "$$ y= \\frac{1}{1+e^{-x}} $$\n",
        "\n",
        "<img src='https://raw.githubusercontent.com/marcinwolter/Machine-learning-KISD-2022/main/images/lecture5/typical-activation-functions-5.png' width=450px>\n",
        "\n",
        "* Hyperbolical tangent\n",
        "$$ y=\\frac{e^x-e^{-x} }{e^x+e^{-x} } $$\n",
        "<img src='https://upload.wikimedia.org/wikipedia/commons/thumb/d/d9/Dirac_distribution_CDF.svg/2560px-Dirac_distribution_CDF.svg.png' width=450px>\n",
        "\n",
        "* Step\n",
        "<img src='https://raw.githubusercontent.com/marcinwolter/Machine-learning-KISD-2022/main/images/lecture5/typical-activation-functionslinear-the-whole-network-is-called-linearlogistichyperbolical-tangentstep-10.png' width=450px>\n",
        "\n",
        "* **<font color='red'>Rectified Linear (Relu), very popular in Deep Neural Networks**\n",
        "\n",
        "\n",
        "\n",
        "\n"
      ]
    },
    {
      "cell_type": "markdown",
      "metadata": {
        "id": "ecV0KsBPG7G-"
      },
      "source": [
        "#<font color='green'>**Training a single neuron**\n",
        "\n",
        " - Neuron is trained on examples\n",
        " - Supervised learning – the proper answers are known for the training set\n",
        "\n",
        "<img src='https://raw.githubusercontent.com/marcinwolter/Machine-learning-KISD-2022/main/images/lecture5/training-a-single-neuron-0.png' width=450px>\n",
        "\n",
        "*ADALINE (Adaptive Linear Network)*\n",
        "\n",
        "<br>\n",
        "\n",
        "\n",
        "   - $X_i$ – input data\n",
        "   - $y$ - output value\n",
        "   - $Z$ -the true output value (supervised training!)\n",
        "\n",
        "###**TASK – minimize the loss function:**\n",
        " $ \\chi^2 = \\sum (y^{(i)}-Z^{(i)})^2$\n",
        "   - Calculate the difference between the true end reconstructed outbut:<br>\n",
        "   $ \\delta = Z - y$\n",
        "   - Find a new set of weights:<br>\n",
        "   $ W^{'} = W - \\eta \\cdot \\delta \\cdot X $<br>\n",
        "   where $\\eta$ is a learning speed\n",
        "\n",
        "\n",
        "\n",
        "\n",
        "\n",
        "\n",
        "\n",
        "\n"
      ]
    },
    {
      "cell_type": "markdown",
      "metadata": {
        "id": "1MXfTQ-xQadQ"
      },
      "source": [
        "#<font color='green'>**Speed of learning**\n",
        "\n",
        "\n",
        "<img src='https://raw.githubusercontent.com/marcinwolter/Machine-learning-KISD-2022/main/images/lecture5/speed-of-learning-0.gif'>\n",
        "\n",
        "**To small**\n",
        "\n",
        "<img src='https://raw.githubusercontent.com/marcinwolter/Machine-learning-KISD-2022/main/images/lecture5/speed-of-learning-1.gif'>\n",
        "\n",
        "**To big**\n"
      ]
    },
    {
      "cell_type": "markdown",
      "metadata": {
        "id": "Hl3ESgDUhMAh"
      },
      "source": [
        "#<font color='green'>**How to train a multilayer network?**\n",
        "\n",
        "* Minimize the loss function by choosing a set of weights $\\omega$:\n",
        "$$ R(\\omega) =\\frac{1}{N}\\sum_i(Z_i - net(X_i,\\omega_i))^2 $$\n",
        "where $Z_i$ is true target value, $X_i$ is an input.\n",
        "\n",
        "* Problem – how to correct the weights in the deeper layer, while\n",
        "comparing only outputs on the last layer?\n",
        "* This problem stopped the development of Neural Networks for 30\n",
        "years, until 80-ties.\n",
        "* **Solution - the backpropagation** method. Errors $\\delta = Z_i - net(X_i,\\omega_i)$ are\n",
        "propagated backward through the net using the actual weights.\n",
        "\n",
        "\n",
        "#**Typical training procedure**\n",
        "\n",
        "- Two data samples: for training and for tests.\n",
        "- $\\chi^2 = \\sum_i (Z_i - net(X_i,\\omega_i))^2 $\n",
        " is calculated for both training and test samples and compared to avoid\n",
        " overtraining.\n",
        "- Backpropagation:\n",
        "  \n",
        "  difference between the expected and calculated value of output\n",
        "$\\delta = Z_i - net(X_i,\\omega_i)$\n",
        "  is propagated backward through the net using the actual weights:\n",
        "  $ W^{'} = W - \\eta \\cdot \\delta \\cdot X $<br>\n",
        "\n",
        "<img src='https://raw.githubusercontent.com/marcinwolter/Machine-learning-KISD-2022/main/images/lecture5/typical-training-procedure-1.png' width=450px>\n"
      ]
    },
    {
      "cell_type": "markdown",
      "metadata": {
        "id": "3tcJP0bnl1-h"
      },
      "source": [
        "#<font color='green'>**Finding the minimum**\n",
        "\n",
        "   - We never know, whether the global or a local minimum of the loss function is reached.\n",
        "   - Mechanisms preventing  stopping in a local minimum:\n",
        "     - Using random initial weights, repetition of training,\n",
        "     - Addition of noise, so the minimizing algorithm can jump out of a local minimum (jittering).\n",
        "   - Regularization - both MLPRegressor and MLPClassifier use parameter alpha for regularization (L2 regularization) term which helps in avoiding overfitting by penalizing weights with large magnitudes.\n",
        "\n",
        "\n",
        "## **Minimization algorithms in sklearn**\n",
        "\n",
        "- Stochastic Gradient Descent (SGD) - updates parameters using the gradient of the loss function with respect to a parameter that needs adaptation:\n",
        "\n",
        "<img src='https://raw.githubusercontent.com/marcinwolter/Machine-learning-KISD-2022/main/images/lecture5/Non-convex-optimization-We-utilize-stochastic-gradient-descent-to-find-a-local-optimum.png' width=350px>\n",
        "\n",
        "- Adam - similar to SGD, but it can automatically adjust the amount to update parameters based on adaptive estimates of lower-order moments.\n",
        "- L-BFGS - approximates the Hessian matrix which represents the second-order partial derivative of a function. Further it approximates the inverse of the Hessian matrix to perform parameter updates.\n",
        "\n"
      ]
    },
    {
      "cell_type": "markdown",
      "metadata": {
        "id": "EoP9T4w8mykY"
      },
      "source": [
        "#**Hand-written digits classification**"
      ]
    },
    {
      "cell_type": "code",
      "execution_count": 1,
      "metadata": {
        "id": "j14FoacpfkLM"
      },
      "outputs": [],
      "source": [
        "%matplotlib inline"
      ]
    },
    {
      "cell_type": "markdown",
      "metadata": {
        "id": "z7Vh10XgfkL1"
      },
      "source": [
        "\n",
        "**Simple visualization and classification of the digits dataset**\n",
        "=============================================================\n",
        "\n",
        "Plot the first few samples of the digits dataset, then do a simple MLP classification\n",
        "\n",
        "\n"
      ]
    },
    {
      "cell_type": "code",
      "execution_count": 2,
      "metadata": {
        "colab": {
          "base_uri": "https://localhost:8080/"
        },
        "id": "VqvfY5W6fkMA",
        "outputId": "59b82113-98e8-49bb-91ba-9cec4b984588"
      },
      "outputs": [
        {
          "name": "stderr",
          "output_type": "stream",
          "text": [
            "/usr/local/lib/python3.10/dist-packages/sklearn/datasets/_openml.py:968: FutureWarning: The default value of `parser` will change from `'liac-arff'` to `'auto'` in 1.4. You can set `parser='auto'` to silence this warning. Therefore, an `ImportError` will be raised from 1.4 if the dataset is dense and pandas is not installed. Note that the pandas parser may return different data types. See the Notes Section in fetch_openml's API doc for details.\n",
            "  warn(\n"
          ]
        }
      ],
      "source": [
        "import matplotlib.pyplot as plt\n",
        "from sklearn.datasets import fetch_openml\n",
        "from sklearn.neural_network import MLPClassifier\n",
        "import numpy as np\n",
        "from sklearn.model_selection import train_test_split\n",
        "\n",
        "\n",
        "# Load data from https://www.openml.org/d/554\n",
        "# IMPORTANT: this time we use bigger 28x28 images!!!!\n",
        "X, y = fetch_openml('mnist_784', version=1, return_X_y=True, parser='auto')\n",
        "X = X / 255.\n",
        "\n",
        "# rescale the data, use the traditional train/test split\n",
        "#X_train, X_test = X[:60000], X[60000:]\n",
        "#y_train, y_test = y[:60000], y[60000:]\n",
        "\n",
        "# split the data into training and validation sets\n",
        "init = np.random.randint(0,1000)\n",
        "X_train, X_test, y_train, y_test = train_test_split(X, y, random_state=init, train_size=60000)\n",
        "\n",
        "# Convert to numpy arrays\n",
        "X_train = X_train.to_numpy()\n",
        "X_test = X_test.to_numpy()\n",
        "y_train = y_train.to_numpy()\n",
        "y_test = y_test.to_numpy()"
      ]
    },
    {
      "cell_type": "markdown",
      "metadata": {
        "id": "ppls9BIjfkMQ"
      },
      "source": [
        "Plot the data: images of digits\n",
        "-------------------------------\n",
        "\n",
        "Each data in a 28x28 image\n",
        "\n"
      ]
    },
    {
      "cell_type": "code",
      "execution_count": 3,
      "metadata": {
        "colab": {
          "base_uri": "https://localhost:8080/",
          "height": 1000
        },
        "id": "juCbO-OgfkMU",
        "outputId": "3a8b27db-6163-416f-f456-016620933aed"
      },
      "outputs": [
        {
          "data": {
            "image/png": "[encoded data removed]",
            "text/plain": [
              "<Figure size 1000x1000 with 100 Axes>"
            ]
          },
          "metadata": {},
          "output_type": "display_data"
        }
      ],
      "source": [
        "from matplotlib import pyplot as plt\n",
        "fig = plt.figure(figsize=(10, 10))  # figure size in inches\n",
        "fig.subplots_adjust(left=0, right=1, bottom=0, top=1, hspace=0.05, wspace=0.05)\n",
        "\n",
        "for i in range(100):\n",
        "    ax = fig.add_subplot(10, 10, i + 1, xticks=[], yticks=[])\n",
        "\n",
        "    # .to_numpy coverts the Pandas DataFrame to the numpy array\n",
        "    ax.imshow(X_test[i].reshape(28,28), cmap=plt.cm.binary, interpolation='nearest')\n",
        "    # label the image with the target value\n",
        "    ax.text(0, 7, str(y_test[i]))"
      ]
    },
    {
      "cell_type": "markdown",
      "metadata": {
        "id": "cX4EBlPCvij8"
      },
      "source": [
        "## **Classify with MLP**"
      ]
    },
    {
      "cell_type": "code",
      "execution_count": 4,
      "metadata": {
        "colab": {
          "base_uri": "https://localhost:8080/"
        },
        "id": "5O0SRInBvcDg",
        "outputId": "4c84a2d0-e053-4726-8271-e3802fc0650b"
      },
      "outputs": [
        {
          "name": "stdout",
          "output_type": "stream",
          "text": [
            "Iteration 1, loss = 0.46132939\n",
            "Validation score: 0.934667\n",
            "Iteration 2, loss = 0.20041154\n",
            "Validation score: 0.954667\n",
            "Iteration 3, loss = 0.15839023\n",
            "Validation score: 0.961167\n",
            "Iteration 4, loss = 0.13300578\n",
            "Validation score: 0.964333\n",
            "Iteration 5, loss = 0.11756191\n",
            "Validation score: 0.968333\n",
            "Iteration 6, loss = 0.10771873\n",
            "Validation score: 0.967833\n",
            "Iteration 7, loss = 0.09859182\n",
            "Validation score: 0.969000\n",
            "Iteration 8, loss = 0.09385103\n",
            "Validation score: 0.972833\n",
            "Iteration 9, loss = 0.08731278\n",
            "Validation score: 0.971167\n",
            "Iteration 10, loss = 0.08485282\n",
            "Validation score: 0.973333\n",
            "Iteration 11, loss = 0.08008420\n",
            "Validation score: 0.974500\n",
            "Iteration 12, loss = 0.07666439\n",
            "Validation score: 0.975667\n",
            "Iteration 13, loss = 0.07475092\n",
            "Validation score: 0.975333\n",
            "Iteration 14, loss = 0.07265036\n",
            "Validation score: 0.977833\n",
            "Iteration 15, loss = 0.07035057\n",
            "Validation score: 0.975500\n",
            "Iteration 16, loss = 0.06830173\n",
            "Validation score: 0.977333\n",
            "Iteration 17, loss = 0.06883657\n",
            "Validation score: 0.976333\n",
            "Iteration 18, loss = 0.06584859\n",
            "Validation score: 0.976833\n",
            "Iteration 19, loss = 0.06646750\n",
            "Validation score: 0.978500\n",
            "Iteration 20, loss = 0.06422550\n",
            "Validation score: 0.976833\n",
            "MLPClassifier(alpha=0.05, early_stopping=True, hidden_layer_sizes=[100, 100],\n",
            "              max_iter=20, random_state=1, tol=1e-05, verbose=10)\n"
          ]
        },
        {
          "name": "stderr",
          "output_type": "stream",
          "text": [
            "/usr/local/lib/python3.10/dist-packages/sklearn/neural_network/_multilayer_perceptron.py:686: ConvergenceWarning: Stochastic Optimizer: Maximum iterations (20) reached and the optimization hasn't converged yet.\n",
            "  warnings.warn(\n"
          ]
        },
        {
          "name": "stdout",
          "output_type": "stream",
          "text": [
            "Score train =  0.9936166666666667\n",
            "Score test  =  0.9753\n"
          ]
        }
      ],
      "source": [
        "from sklearn.naive_bayes import GaussianNB\n",
        "from sklearn.discriminant_analysis import LinearDiscriminantAnalysis\n",
        "from sklearn.neighbors import KNeighborsClassifier\n",
        "\n",
        "from sklearn.tree import DecisionTreeClassifier\n",
        "from sklearn.ensemble import RandomForestClassifier, AdaBoostClassifier, BaggingClassifier, GradientBoostingClassifier\n",
        "\n",
        "\n",
        "# train the model\n",
        "#clf = GaussianNB()\n",
        "#clf = LinearDiscriminantAnalysis()\n",
        "#clf = KNeighborsClassifier(5)\n",
        "#clf = AdaBoostClassifier(DecisionTreeClassifier(max_depth=4),n_estimators=200)\n",
        "#clf = RandomForestClassifier(n_estimators = 50, max_depth=None)\n",
        "clf =  MLPClassifier(alpha=0.05, max_iter=20,solver='adam', random_state=1,\n",
        "                hidden_layer_sizes=[100, 100],early_stopping=True,\n",
        "                verbose=10, tol=0.00001)\n",
        "\n",
        "print(clf.fit(X_train, y_train))\n",
        "#print(clf.feature_importances_)\n",
        "\n",
        "# use the model to predict the labels of the test data\n",
        "predicted = clf.predict(X_test)\n",
        "expected = y_test\n",
        "\n",
        "\n",
        "print(\"Score train = \",clf.score(X_train, y_train))\n",
        "print(\"Score test  = \",clf.score(X_test, y_test))\n",
        "\n"
      ]
    },
    {
      "cell_type": "code",
      "execution_count": 5,
      "metadata": {
        "colab": {
          "base_uri": "https://localhost:8080/",
          "height": 636
        },
        "id": "17Eg7JNXGhmJ",
        "outputId": "6931a009-d030-44e6-b642-626002af9dde"
      },
      "outputs": [
        {
          "data": {
            "image/png": "[encoded data removed]",
            "text/plain": [
              "<Figure size 600x600 with 64 Axes>"
            ]
          },
          "metadata": {},
          "output_type": "display_data"
        }
      ],
      "source": [
        "# Plot the prediction\n",
        "fig = plt.figure(figsize=(6, 6))  # figure size in inches\n",
        "fig.subplots_adjust(left=0, right=1, bottom=0, top=1, hspace=0.05, wspace=0.05)\n",
        "\n",
        "\n",
        "# plot the digits: each image is 28x28 pixels\n",
        "for i in range(64):\n",
        "    ax = fig.add_subplot(8, 8, i + 1, xticks=[], yticks=[])\n",
        "    ax.imshow(X_test[i].reshape(28,28), cmap=plt.cm.binary,\n",
        "              interpolation='nearest')\n",
        "\n",
        "    # label the image with the target value\n",
        "    if predicted[i] == expected[i]:\n",
        "        ax.text(0, 7, str(expected[i])+\" \"+str(predicted[i]), color='green')\n",
        "    else:\n",
        "        ax.text(0, 7, str(expected[i])+\" \"+str(predicted[i]), color='red')"
      ]
    },
    {
      "cell_type": "markdown",
      "metadata": {
        "id": "XHCJ7D1eHVRv"
      },
      "source": [
        "**Number of true matches:**"
      ]
    },
    {
      "cell_type": "code",
      "execution_count": 6,
      "metadata": {
        "colab": {
          "base_uri": "https://localhost:8080/"
        },
        "id": "Y43Y_1DPFg70",
        "outputId": "1c395fd6-3e92-4fc0-8b23-0e2f74b3468c"
      },
      "outputs": [
        {
          "name": "stdout",
          "output_type": "stream",
          "text": [
            "9753\n"
          ]
        }
      ],
      "source": [
        "matches = (predicted == expected)\n",
        "print(matches.sum())"
      ]
    },
    {
      "cell_type": "markdown",
      "metadata": {
        "id": "C5FoHfRPFer_"
      },
      "source": [
        "The total number of data points\n",
        "\n"
      ]
    },
    {
      "cell_type": "code",
      "execution_count": 7,
      "metadata": {
        "colab": {
          "base_uri": "https://localhost:8080/"
        },
        "id": "Q5qVMQYbFdVa",
        "outputId": "8367256c-0e0e-4728-8247-7ce0d8e90b9c"
      },
      "outputs": [
        {
          "name": "stdout",
          "output_type": "stream",
          "text": [
            "10000\n"
          ]
        }
      ],
      "source": [
        "print(len(matches))"
      ]
    },
    {
      "cell_type": "markdown",
      "metadata": {
        "id": "brRHdOV9fkNb"
      },
      "source": [
        "And now, the ratio of correct predictions\n",
        "\n"
      ]
    },
    {
      "cell_type": "code",
      "execution_count": 8,
      "metadata": {
        "colab": {
          "base_uri": "https://localhost:8080/"
        },
        "id": "shglpd_QFbXw",
        "outputId": "a248cb9c-b967-442b-eac4-918041ee5b01"
      },
      "outputs": [
        {
          "data": {
            "text/plain": [
              "0.9753"
            ]
          },
          "execution_count": 8,
          "metadata": {},
          "output_type": "execute_result"
        }
      ],
      "source": [
        "matches.sum() / float(len(matches))"
      ]
    },
    {
      "cell_type": "markdown",
      "metadata": {
        "id": "Saz1cEW4FZ9I"
      },
      "source": [
        "Print the classification report\n",
        "\n"
      ]
    },
    {
      "cell_type": "code",
      "execution_count": 9,
      "metadata": {
        "colab": {
          "base_uri": "https://localhost:8080/"
        },
        "id": "wHbghP_wFYUf",
        "outputId": "33bdddf2-7a21-4f5f-e23e-fbbe14784244"
      },
      "outputs": [
        {
          "name": "stdout",
          "output_type": "stream",
          "text": [
            "              precision    recall  f1-score   support\n",
            "\n",
            "           0       0.99      0.98      0.98      1024\n",
            "           1       0.99      0.98      0.98      1090\n",
            "           2       0.97      0.98      0.97      1068\n",
            "           3       0.98      0.96      0.97      1010\n",
            "           4       0.99      0.97      0.98       958\n",
            "           5       0.98      0.96      0.97       913\n",
            "           6       0.95      0.99      0.97       977\n",
            "           7       0.97      0.99      0.98      1025\n",
            "           8       0.96      0.97      0.97       962\n",
            "           9       0.97      0.97      0.97       973\n",
            "\n",
            "    accuracy                           0.98     10000\n",
            "   macro avg       0.98      0.98      0.98     10000\n",
            "weighted avg       0.98      0.98      0.98     10000\n",
            "\n"
          ]
        }
      ],
      "source": [
        "from sklearn import metrics\n",
        "print(metrics.classification_report(expected, predicted))"
      ]
    },
    {
      "cell_type": "markdown",
      "metadata": {
        "id": "0ds7oUArfkNs"
      },
      "source": [
        "# **Print the confusion matrix (expected true label vs. the reconstructed label)**\n",
        "\n"
      ]
    },
    {
      "cell_type": "code",
      "execution_count": 10,
      "metadata": {
        "colab": {
          "base_uri": "https://localhost:8080/"
        },
        "id": "lzzlk11jfkNx",
        "outputId": "09a69952-2f1a-4cc1-cdba-cfb685e0c162"
      },
      "outputs": [
        {
          "name": "stdout",
          "output_type": "stream",
          "text": [
            "[[1000    0    2    2    1    0   10    0    8    1]\n",
            " [   0 1070    4    1    1    0    2    3    5    4]\n",
            " [   2    2 1043    3    4    0    3    5    5    1]\n",
            " [   2    2   12  974    0    6    1    5    6    2]\n",
            " [   1    0    3    0  930    0    5    3    1   15]\n",
            " [   2    2    1    6    1  875   17    0    6    3]\n",
            " [   1    1    0    0    1    3  968    1    2    0]\n",
            " [   0    1    2    0    2    3    1 1013    1    2]\n",
            " [   0    3    6    1    1    1   12    3  932    3]\n",
            " [   2    3    0    2    3    3    0    9    3  948]]\n"
          ]
        }
      ],
      "source": [
        "print(metrics.confusion_matrix(expected, predicted))\n",
        "\n",
        "plt.show()"
      ]
    },
    {
      "cell_type": "markdown",
      "metadata": {
        "id": "uu3Avjn8IkMB"
      },
      "source": [
        "\n",
        "\n",
        "---\n",
        "\n",
        "\n",
        "\n",
        "---\n",
        "\n",
        "\n",
        "\n",
        "---\n",
        "\n"
      ]
    },
    {
      "cell_type": "markdown",
      "metadata": {
        "id": "ZweneRkajCRW"
      },
      "source": [
        "# **Neural network demonstrator**\n",
        "\n",
        "Have a nice time playing with neural networks!\n",
        "\n",
        "https://playground.tensorflow.org"
      ]
    },
    {
      "cell_type": "markdown",
      "metadata": {
        "id": "t1kQAwgv3jwo"
      },
      "source": [
        "#<font color='green'>**Summary**\n",
        "\n",
        "* Neural networks are extremally popular in AI applications\n",
        "* We have learned about basic classification and regression using neural nets.\n",
        "* Next week we will talk about **Deep Neural Networks**"
      ]
    },
    {
      "cell_type": "markdown",
      "metadata": {
        "id": "91BFisvSLDtg"
      },
      "source": [
        "\n",
        "\n",
        "---\n",
        "\n",
        "\n",
        "\n",
        "---\n",
        "\n",
        "\n",
        "\n",
        "---\n",
        "\n",
        "# <font color = green> **Deep Neural Networks**\n"
      ]
    },
    {
      "cell_type": "markdown",
      "metadata": {
        "id": "VZBFS-ngLR3O"
      },
      "source": [
        "#**What does “deep learning” mean?**\n",
        "\n",
        "<img src='https://raw.githubusercontent.com/marcinwolter/Machine-learning-KISD-2022/main/images/lecture6/MachineLearning2020_65.png' width=450px>\n",
        "\n",
        "\n",
        "\n",
        "<span style=\"color:#000000\">Why does it give better results than other methods in pattern recognition\\, speech recognition and others?</span>\n",
        "\n",
        "<img src='https://raw.githubusercontent.com/marcinwolter/Machine-learning-KISD-2022/main/images/lecture6/MachineLearning2020_66.png' width=450px>\n",
        "\n",
        "<span style=\"color:#800000\"> __Short answer:__ </span>\n",
        "\n",
        "<span style=\"color:#0D0D0D\"> __‘__ </span>  <span style=\"color:#0D0D0D\"> __Deep Learning’ \\- using a neural network with many hidden layers__ </span>\n",
        "\n",
        "A series of hidden layers makes the feature identification first and processes them in the chain of operations: <br>\n",
        " **feature identification→ further feature identification → ……\\.  → selection**\n",
        "\n",
        "\n",
        "\n",
        "---\n",
        "\n",
        "\n",
        "But Neural Networks are well known starting from 80\\-ties???\n",
        "\n",
        "<span style=\"color:#000000\">We always had good algorithms to train NN with one or two hidden layers\\.</span>\n",
        "\n",
        "<span style=\"color:#000000\">But they were failing for more layers</span>\n",
        "\n",
        "#**So what is NEW in Deep Neural Networks (DNN):**\n",
        "\n",
        "* algorithms for training deep networks\n",
        "\n",
        "* huge computing power\n"
      ]
    },
    {
      "cell_type": "markdown",
      "metadata": {
        "id": "co2RfEeHQ9lC"
      },
      "source": [
        "##**Shellow neural network**\n",
        "<img src='https://raw.githubusercontent.com/marcinwolter/Machine-learning-KISD-2022/main/images/lecture6/MachineLearning2020_67.png' width=150px>\n",
        "\n",
        "##**Deep neural network**\n",
        "<img src='https://raw.githubusercontent.com/marcinwolter/Machine-learning-KISD-2022/main/images/lecture6/MachineLearning2020_68.png' width=450px>\n",
        "\n",
        "\n"
      ]
    },
    {
      "cell_type": "markdown",
      "metadata": {
        "id": "MbNnWoDklZXL"
      },
      "source": [
        "##**Training:**\n",
        "1. Initialization with random weights\n",
        "2. Reading data & processing them by network\n",
        "3. Result compared with the true value\n",
        "4. The weights are modified. Modification is based on this error.\n",
        "5. We repeat this procedure many times, each time modifying the weights\n",
        "\n",
        "**Training algorithms take care, that the error becomes smaller and smaller**\n",
        "\n",
        "\n"
      ]
    },
    {
      "cell_type": "markdown",
      "metadata": {
        "id": "Omt-vjnUk6Oj"
      },
      "source": [
        "#**Is one hidden layer sufficient?**\n",
        "\n",
        "###<font color='red'> **If the activation function is non\\-linear\\, than a neural network with one hidden layer can classify any problem \\(fits any function\\)\\.**\n",
        "\n",
        "**There exists a set of weights\\, which allows to do that\\.** However\\, the problem is to find this set of weights\\.\\.\\.\n",
        "\n",
        "\n",
        "There exists a network with one hidden layer, which makes optimal classification of hand-written digits. However, with the known algorithms we can not find it :)\n",
        "\n",
        "<img src='https://raw.githubusercontent.com/marcinwolter/Machine-learning-KISD-2022/main/images/lecture6/MachineLearning2020_618.png' width=450px>\n"
      ]
    },
    {
      "cell_type": "markdown",
      "metadata": {
        "id": "JZVxl7rSuVJY"
      },
      "source": [
        "<img src='https://raw.githubusercontent.com/marcinwolter/Machine-learning-KISD-2022/main/images/lecture6/img18.png' width=650px>\n",
        "\n",
        "<img src='https://raw.githubusercontent.com/marcinwolter/Machine-learning-KISD-2022/main/images/lecture6/img19.png' width=650px>\n",
        "\n",
        "<img src='https://raw.githubusercontent.com/marcinwolter/Machine-learning-KISD-2022/main/images/lecture6/img20.png' width=650px>\n"
      ]
    },
    {
      "cell_type": "markdown",
      "metadata": {
        "id": "3mJMDEwEupxE"
      },
      "source": [
        "<img src='https://raw.githubusercontent.com/marcinwolter/Machine-learning-KISD-2022/main/images/lecture6/img21.png' width=650px>\n",
        "\n",
        "<img src='https://raw.githubusercontent.com/marcinwolter/Machine-learning-KISD-2022/main/images/lecture6/img22.png' width=650px>\n",
        "\n",
        "<img src='https://raw.githubusercontent.com/marcinwolter/Machine-learning-KISD-2022/main/images/lecture6/img23.png' width=650px>\n"
      ]
    },
    {
      "cell_type": "markdown",
      "metadata": {
        "id": "2Ls9gocDuvyS"
      },
      "source": [
        "<img src='https://raw.githubusercontent.com/marcinwolter/Machine-learning-KISD-2022/main/images/lecture6/img24.png' width=650px>\n",
        "\n",
        "<img src='https://raw.githubusercontent.com/marcinwolter/Machine-learning-KISD-2022/main/images/lecture6/img25.png' width=650px>\n",
        "\n",
        "<img src='https://raw.githubusercontent.com/marcinwolter/Machine-learning-KISD-2022/main/images/lecture6/img26.png' width=650px>\n"
      ]
    },
    {
      "cell_type": "markdown",
      "metadata": {
        "id": "onp-CQUKu1mn"
      },
      "source": [
        "<img src='https://raw.githubusercontent.com/marcinwolter/Machine-learning-KISD-2022/main/images/lecture6/img27.png' width=650px>\n",
        "\n",
        "<img src='https://raw.githubusercontent.com/marcinwolter/Machine-learning-KISD-2022/main/images/lecture6/img28.png' width=650px>\n",
        "\n",
        "<img src='https://raw.githubusercontent.com/marcinwolter/Machine-learning-KISD-2022/main/images/lecture6/img29.png' width=650px>\n"
      ]
    },
    {
      "cell_type": "markdown",
      "metadata": {
        "id": "hQWmvq_Ru7jr"
      },
      "source": [
        "<img src='https://raw.githubusercontent.com/marcinwolter/Machine-learning-KISD-2022/main/images/lecture6/img30.png' width=650px>\n",
        "\n",
        "<img src='https://raw.githubusercontent.com/marcinwolter/Machine-learning-KISD-2022/main/images/lecture6/img31.png' width=650px>\n",
        "\n",
        "<img src='https://raw.githubusercontent.com/marcinwolter/Machine-learning-KISD-2022/main/images/lecture6/img32.png' width=650px>\n"
      ]
    },
    {
      "cell_type": "markdown",
      "metadata": {
        "id": "MZwp4i2_8RtL"
      },
      "source": [
        "<img src='https://raw.githubusercontent.com/marcinwolter/Machine-learning-KISD-2022/main/images/lecture6/MachineLearning2020_6_1.png' width=650px>"
      ]
    },
    {
      "cell_type": "markdown",
      "metadata": {
        "id": "yUK5l-plvpiK"
      },
      "source": [
        "\n",
        "\n",
        "\n",
        "\n",
        "#**Machine Learning and Deep Learning**\n",
        "\n",
        "<span style=\"color:#000000\"> __Traditional ML \\(BDT\\, NN etc\\)__ </span>  <span style=\"color:#000000\"> – the scientist finds good\\, well discriminating variables </span>  <span style=\"color:#000000\">\\(~10\\)\\, called “features”\\, and performs classification using them as inputs for the ML algorithm\\.</span>\n",
        "\n",
        "<span style=\"color:#000000\"> __Deep Learning__ </span>  <span style=\"color:#000000\"> – thousands or millions of input variables \\(like pixels of a photo\\)\\, the features are </span>  <span style=\"color:#000000\"> _automagically_ </span>  <span style=\"color:#000000\"> extracted during training\\.</span>\n",
        "\n",
        "<img src='https://raw.githubusercontent.com/marcinwolter/Machine-learning-KISD-2022/main/images/lecture6/MachineLearning2020_643.png' width=650px>\n",
        "\n"
      ]
    },
    {
      "cell_type": "markdown",
      "metadata": {
        "id": "9C-ol3iY8vtt"
      },
      "source": [
        "\n",
        "\n",
        "* **Traditional Neural Networks** have one or two hidden layers\\.\n",
        "\n",
        "* <span style=\"color:#000000\"> __Deep Neural Network:__ </span>  <span style=\"color:#000000\"> a stack of sequentially trained </span>  <span style=\"color:#000000\"> __auto encoders__ </span>  <span style=\"color:#000000\">\\, which recognize different features \\(more complicated in each layer\\) and automatically prepare a new representation of data\\. This is how our brains are organized\\.</span>\n",
        "\n",
        "\n",
        "<img src='https://raw.githubusercontent.com/marcinwolter/Machine-learning-KISD-2022/main/images/lecture6/MachineLearning2020_644.png' width=250px>\n",
        "\n",
        "<span style=\"color:#800000\"> __But how to train such a stack?__ </span>\n",
        "\n",
        "<span style=\"color:#000000\">[http://www\\.andreykurenkov\\.com/writing/a\\-brief\\-history\\-of\\-neural\\-nets\\-and\\-deep\\-learning\\-part\\-4/](http://www.andreykurenkov.com/writing/a-brief-history-of-neural-nets-and-deep-learning-part-4/)</span>\n"
      ]
    },
    {
      "cell_type": "markdown",
      "metadata": {
        "id": "Iietxo7X9a3V"
      },
      "source": [
        "\n",
        "#<span style=\"color:#800000\"> __Training a Deep Neural Network__ </span>\n",
        "\n",
        "<span style=\"color:#000000\">In the early 2000s\\, attempts to train deep neural networks were frustrated by the apparent failure of the well known back\\-propagation algorithms \\(backpropagation\\, gradient descent\\)\\. Many researchers claimed NN are gone\\, only Support Vector Machines and Boosted Decision Trees should be used\\!</span>\n",
        "\n",
        "<span style=\"color:#000000\">In 2006\\, Hinton\\, Osindero and Teh</span>  <span style=\"color:#000000\">(*)</span>  <span style=\"color:#000000\"> first time </span>  <span style=\"color:#000000\"> __succeeded in training a deep neural network__ </span>  <span style=\"color:#000000\"> by first initializing its parameters sequentially\\, layer by layer\\. Each layer was trained to produce a representation of its inputs that served as the training data for the next layer\\. Then the network was tweaked using gradient descent \\(standard algorithm\\)\\.</span>\n",
        "\n",
        "<span style=\"color:#800000\"> __There was a common belief that Deep NN training requires careful initialization of parameters and sophisticated machine learning algorithms\\.__ </span>\n",
        "\n",
        "(*) Hinton\\, G\\. E\\.\\, Osindero\\, S\\. and Teh\\, Y\\.\\, A fast learning algorithm for deep belief nets\\, Neural Computation 18\\, 1527\\-1554\\.\n",
        "\n",
        "---"
      ]
    },
    {
      "cell_type": "markdown",
      "metadata": {
        "id": "Xtev1eSo9vle"
      },
      "source": [
        "\n",
        "#<span style=\"color:#800000\"> __Training with a brute force__ </span>\n",
        "\n",
        "* <span style=\"color:#000000\">In 2010\\, a surprising counter example to the conventional wisdom was demonstrated</span>  <span style=\"color:#000000\">(**)</span>  <span style=\"color:#000000\">\\.</span>\n",
        "* <span style=\"color:#800000\">Deep neural network was trained to classify the handwritten digits in the MNIST(***)  <span style=\"color:#800000\"> data set\\, which comprises 60\\,000 28 × 28 = 784 pixel images for training and 10\\,000 images for testing\\.</span>\n",
        "* <span style=\"color:#000000\">They showed that a plain DNN with architecture \\(784\\, 2500\\, 2000\\, 1500\\, 1000\\, 500\\, 10 – </span>  <span style=\"color:#800000\"> __HUGE\\!\\!\\!__ </span>  <span style=\"color:#000000\">\\)\\, trained using standard stochastic gradient descent \\(Minuit on steroids\\!\\)\\, outperformed all other methods that had been applied to the MNIST data set as of 2010\\. The error rate of this ∼12 million parameter DNN was 35 images out of 10\\,000\\. </span>\n",
        "  * <span style=\"color:#000000\"> _The training images were randomly and slightly deformed before every training epoch\\. The entire set of 60\\,000 undeformed images could be used as the validation set during training\\, since none were used as training data\\._ </span>\n",
        "\n",
        "(**) Cireşan DC\\, Meier U\\, Gambardella LM\\, Schmidhuber J\\. \\,Deep\\, big\\, simple neural nets for handwritten digit recognition\\. Neural Comput\\. 2010 Dec; 22 \\(12\\): 3207\\-20\\.\n",
        "\n",
        "(***) [http://yann\\.lecun\\.com/exdb/mnist/](http://yann.lecun.com/exdb/mnist/)\n",
        "\n",
        "---\n",
        "\n",
        "#<span style=\"color:#800000\"> __Why it didn’t work before?__ </span>\n",
        "\n",
        "<span style=\"color:#000000\">More data\\, clusters of GPU/CPU \\(computing power\\!\\)</span>\n",
        "\n",
        "<span style=\"color:#000000\">The particular non\\-linear activation function chosen for neurons in a neural net makes a big impact on performance\\, and the one often used by default is not a good choice\\.</span>\n",
        "\n",
        "<span style=\"color:#000000\">The old vanishing gradient problem happens\\, basically\\, because backpropagation involves a sequence of multiplications that invariably result in smaller derivatives for earlier layers\\. That is\\, unless weights are chosen with difference scales according to the layer they are in \\- making this simple change results in significant improvements\\.</span>\n",
        "\n",
        "<img src='https://raw.githubusercontent.com/marcinwolter/Machine-learning-KISD-2022/main/images/lecture6/MachineLearning2020_645.png' width=350px>\n",
        "\n",
        "<img src='https://raw.githubusercontent.com/marcinwolter/Machine-learning-KISD-2022/main/images/lecture6/MachineLearning2020_646.png' width=450px>\n",
        "\n",
        "---\n",
        "\n"
      ]
    },
    {
      "cell_type": "markdown",
      "metadata": {
        "id": "rljnG2BOFMAD"
      },
      "source": [
        "\n",
        "\n",
        "---\n",
        "\n",
        "\n",
        "\n",
        "---\n",
        "\n",
        "\n",
        "\n",
        "---\n",
        "\n"
      ]
    },
    {
      "cell_type": "markdown",
      "metadata": {
        "id": "rAlVbEo-FNXz"
      },
      "source": [
        "# **Hand written digits classification using the pytorch library**"
      ]
    },
    {
      "cell_type": "markdown",
      "metadata": {
        "id": "Ubel8ZceUyBZ"
      },
      "source": [
        "## **Pytorch network in a nutshell**"
      ]
    },
    {
      "cell_type": "code",
      "execution_count": 24,
      "metadata": {
        "id": "atswL6vrYzGB"
      },
      "outputs": [],
      "source": [
        "import torch\n",
        "import torch.nn as nn\n",
        "import torch.optim as optim\n",
        "import torchvision\n",
        "import torchvision.transforms as transforms"
      ]
    },
    {
      "cell_type": "code",
      "execution_count": 25,
      "metadata": {
        "id": "_IpzppDtY1hr"
      },
      "outputs": [],
      "source": [
        "# Load MNIST dataset\n",
        "transform = transforms.Compose([transforms.ToTensor(), transforms.Normalize((0.5,), (0.5,))])\n",
        "trainset = torchvision.datasets.MNIST(root='./data', train=True, download=True, transform=transform)\n",
        "trainloader = torch.utils.data.DataLoader(trainset, batch_size=64, shuffle=True)\n",
        "testset = torchvision.datasets.MNIST(root='./data', train=False, download=True, transform=transform)\n",
        "testloader = torch.utils.data.DataLoader(testset, batch_size=64, shuffle=False)"
      ]
    },
    {
      "cell_type": "code",
      "execution_count": 26,
      "metadata": {
        "id": "8TV_kT3xZ1vJ"
      },
      "outputs": [],
      "source": [
        "# Set Device\n",
        "device = torch.device('cuda' if torch.cuda.is_available() else 'cpu')"
      ]
    },
    {
      "cell_type": "code",
      "execution_count": 34,
      "metadata": {
        "id": "EHjB5USDY4xG"
      },
      "outputs": [],
      "source": [
        "# Define FNN model\n",
        "class Net(nn.Module):\n",
        "    def __init__(self):\n",
        "        super(Net, self).__init__()\n",
        "        self.fc1 = nn.Linear(28 * 28, 128)\n",
        "        self.fc2 = nn.Linear(128, 10)\n",
        "\n",
        "    def forward(self, x):\n",
        "        x = x.view(-1, 28 * 28)\n",
        "        x = torch.relu(self.fc1(x))\n",
        "        x = self.fc2(x)\n",
        "        return x\n",
        "\n",
        "\n",
        "\n",
        "net = Net().to(device)\n",
        "\n",
        "# Loss function and optimizer\n",
        "criterion = nn.CrossEntropyLoss()\n",
        "optimizer = optim.Adam(net.parameters(), lr=0.001) #, momentum=0.9)"
      ]
    },
    {
      "cell_type": "code",
      "execution_count": 35,
      "metadata": {
        "colab": {
          "base_uri": "https://localhost:8080/"
        },
        "id": "SCfEsQXUFaZw",
        "outputId": "75e7e703-9a0b-4dd3-d545-53692eff13ac"
      },
      "outputs": [
        {
          "name": "stdout",
          "output_type": "stream",
          "text": [
            "Epoch: 0\n",
            "Epoch: 1\n",
            "Epoch: 2\n",
            "Epoch: 3\n",
            "Epoch: 4\n",
            "Training complete!\n"
          ]
        }
      ],
      "source": [
        "# Training loop\n",
        "for epoch in range(5):\n",
        "    print(f'Epoch: {epoch}')\n",
        "    for i, data in enumerate(trainloader, 0):\n",
        "        inputs, labels = data\n",
        "        optimizer.zero_grad()\n",
        "        outputs = net(inputs.to(device))\n",
        "        loss = criterion(outputs.to(device), labels.to(device))\n",
        "        loss.backward()\n",
        "        optimizer.step()\n",
        "\n",
        "print(\"Training complete!\")\n",
        "\n"
      ]
    },
    {
      "cell_type": "code",
      "execution_count": 36,
      "metadata": {
        "colab": {
          "base_uri": "https://localhost:8080/"
        },
        "id": "oxB1Zd5mZKWO",
        "outputId": "e97a93ba-21f8-4898-a5c1-cc6e8a067843"
      },
      "outputs": [
        {
          "name": "stdout",
          "output_type": "stream",
          "text": [
            "Got for test dataset 9723/10000 with accuracy  97.23\n"
          ]
        }
      ],
      "source": [
        "# Evaluate net\n",
        "\n",
        "num_correct = 0\n",
        "num_samples = 0\n",
        "net.eval()\n",
        "\n",
        "with torch.no_grad():  # dont compute gradients\n",
        "    for x, y in testloader:\n",
        "        x = x.to(device)\n",
        "        y = y.to(device)\n",
        "\n",
        "        x = x.reshape(x.shape[0],-1)\n",
        "\n",
        "        scores = net(x)\n",
        "        _, predictions = scores.max(1)\n",
        "\n",
        "        # print(predictions)\n",
        "\n",
        "        num_correct += (predictions == y).sum()\n",
        "        num_samples += predictions.size(0)\n",
        "\n",
        "    print(f'Got for test dataset {num_correct}/{num_samples} with accuracy {float(num_correct)/float(num_samples)*100: .2f}')"
      ]
    },
    {
      "cell_type": "markdown",
      "metadata": {
        "id": "mruf_64BPiYE"
      },
      "source": [
        "# Fully Connected Network\n",
        "**with more explanations (you can skip this)**\n",
        "\n",
        "Example taken from: https://medium.com/@bpoyeka1/building-simple-neural-networks-nn-cnn-using-pytorch-for-mnist-dataset-31e459d17788\n",
        "\n",
        "Create a new Python file in your project, and then follow the steps.\n",
        "\n",
        "**Step 1: Import Required Libraries**"
      ]
    },
    {
      "cell_type": "code",
      "execution_count": 12,
      "metadata": {
        "id": "H-zKv0mMPpqb"
      },
      "outputs": [],
      "source": [
        "import torch\n",
        "import torch.nn as nn  # all neural network modules\n",
        "import torch.optim as optim  # optimization algo\n",
        "import torch.nn.functional as F  # Functions with no parameters -> activation functions\n",
        "from torch.utils.data import DataLoader  # easier dataset management, helps create mini batches\n",
        "import torchvision.datasets as datasets  # standard datasets\n",
        "import torchvision.transforms as transforms"
      ]
    },
    {
      "cell_type": "markdown",
      "metadata": {
        "id": "dr3z6dPtP5qT"
      },
      "source": [
        "**Step 2: Create a Neural Network Class**\n",
        "\n",
        "Define a class NN that extends nn.Module."
      ]
    },
    {
      "cell_type": "code",
      "execution_count": 13,
      "metadata": {
        "id": "TsM1matTQAG1"
      },
      "outputs": [],
      "source": [
        "class NN(nn.Module):  # inherits nn.Module\n",
        "\n",
        "    def __init__(self, input_size, num_classes):  # input size = 28x28 = 784 for mnist\n",
        "        super(NN, self).__init__()\n",
        "        self.fc1 = nn.Linear(input_size, 50)\n",
        "        self.fc2 = nn.Linear(50, num_classes)\n",
        "\n",
        "    def forward(self, x):\n",
        "        x = F.relu(self.fc1(x))\n",
        "        x = self.fc2(x)\n",
        "        return x"
      ]
    },
    {
      "cell_type": "markdown",
      "metadata": {
        "id": "eMiu6H-LQEzV"
      },
      "source": [
        "Class NN:\n",
        "\n",
        "This class defines your neural network model and inherits from nn.Module, which is a base class for all neural network modules in PyTorch.\n",
        "\n",
        "input_size: The number of input features the network expects. For MNIST, each image is 28x28 pixels, typically flattened into a single 784-element vector before being fed into the network.\n",
        "\n",
        "num_classes: The number of output classes. For MNIST, this would be 10 (digits 0 through 9).\n",
        "\n",
        "First Layer (self.fc1): This is a fully connected (or linear) layer that takes the input vector of size input_size and transforms it into a hidden layer of size 50.\n",
        "\n",
        "Second Layer (self.fc2): Another fully connected layer that takes the 50-dimensional output from the first layer and converts it to the final output size of num_classes. This output size corresponds to the number of classes in the task (for MNIST, 10 different digits).\n",
        "\n",
        "Forward Method: This method defines the forward pass of the network. It takes an input tensor x and applies the network layers and activations to produce an output.\n",
        "\n",
        "x = F.relu(self.fc1(x)): Applies the first layer (self.fc1) to the input x and then applies the ReLU activation function. ReLU (Rectified Linear Unit) is a common activation function in neural networks that introduces non-linearity into the model, allowing it to learn more complex patterns. It outputs zero for any negative input and outputs the input directly for any non-negative input.\n",
        "\n",
        "x = self.fc2(x): Passes the output from the previous layer through the second layer (self.fc2), which produces the logits for each class.\n",
        "Return Value: The method returns x, which now contains the class logits for the input tensor.\n",
        "\n",
        "**Step 3: Load Data and setup Data Loaders**\n",
        "\n",
        "The MNIST dataset is a collection of handwritten digits commonly used for training various image processing systems. It includes 60,000 training images and 10,000 testing images, each a 28x28 pixel grayscale image of the digits 0 through 9."
      ]
    },
    {
      "cell_type": "code",
      "execution_count": 14,
      "metadata": {
        "id": "kwBVj1kBQc37"
      },
      "outputs": [],
      "source": [
        "batch_size = 64\n",
        "\n",
        "# Load Data\n",
        "train_dataset = datasets.MNIST(root='dataset/', train=True, transform=transforms.ToTensor(), download=True)\n",
        "train_loader = DataLoader(dataset=train_dataset, batch_size=batch_size, shuffle=True)\n",
        "\n",
        "test_dataset = datasets.MNIST(root='dataset/', train=False, transform=transforms.ToTensor(), download=True)\n",
        "test_loader = DataLoader(dataset=test_dataset, batch_size=batch_size, shuffle=True)"
      ]
    },
    {
      "cell_type": "markdown",
      "metadata": {
        "id": "1R1bkJE4QjIi"
      },
      "source": [
        "### **Downloading the dataset.**\n",
        "\n",
        "datasets.MNIST: This function is a part of the torchvision.datasets module. It is used to load the MNIST dataset.\n",
        "\n",
        "root='dataset/': Specifies the directory where the dataset will be stored. If the dataset doesn't exist in this directory, it will be downloaded here.\n",
        "\n",
        "train=True: Indicates that the training dataset should be loaded. Setting this parameter to False, as seen in the test dataset loading, will load the test set.\n",
        "\n",
        "transform=transforms.ToTensor(): Applies a transformation to the dataset elements. transforms.ToTensor() converts the images from a Python Image Library format to a PyTorch tensor. This transformation also scales the image pixels from the range [0, 255] to the range [0.0, 1.0].\n",
        "\n",
        "download=True: If set to True, the dataset will be downloaded from the internet if it's not available in the root directory.\n",
        "\n",
        "**Loading the dataset:**\n",
        "\n",
        "DataLoader: This is a PyTorch class that provides a convenient way to iterate over datasets.\n",
        "\n",
        "dataset=train_dataset: Specifies the dataset to load data.\n",
        "\n",
        "batch_size=batch_size: Determines the number of samples included in each batch. A smaller batch size means the model will update its weights more frequently within one epoch, which can improve training dynamics but may increase training time.\n",
        "\n",
        "shuffle=True: When set to True, the data loader will shuffle the dataset at the beginning of each epoch.\n",
        "\n",
        "**Step 4: Set the Device**"
      ]
    },
    {
      "cell_type": "code",
      "execution_count": 15,
      "metadata": {
        "id": "rMzp2yV0Q5Dg"
      },
      "outputs": [],
      "source": [
        "# Set Device\n",
        "device = torch.device('cuda' if torch.cuda.is_available() else 'cpu')"
      ]
    },
    {
      "cell_type": "markdown",
      "metadata": {
        "id": "PsJleK1cQ_Ql"
      },
      "source": [
        "**Step 5: Define Hyperparameters and Create a Model**"
      ]
    },
    {
      "cell_type": "code",
      "execution_count": 16,
      "metadata": {
        "id": "wwejZ3v8RB0T"
      },
      "outputs": [],
      "source": [
        "# Hyperparameters\n",
        "input_size = 784\n",
        "num_classes = 10\n",
        "learning_rate = 0.001\n",
        "num_epochs = 5\n",
        "\n",
        "# Initialize Network\n",
        "model = NN(input_size=input_size, num_classes=num_classes).to(device)\n",
        "\n",
        "# Loss and Optimizer\n",
        "criterion = nn.CrossEntropyLoss()\n",
        "optimizer = optim.Adam(model.parameters(), lr=learning_rate)"
      ]
    },
    {
      "cell_type": "markdown",
      "metadata": {
        "id": "oi5r1OxrRVGZ"
      },
      "source": [
        "* input_size = 784: This specifies the number of input features for the model. Since the MNIST dataset consists of images that are 28x28 pixels, each image is flattened into a 784-element vector before being fed into the network.\n",
        "num_classes = 10: This represents the number of output classes that the model should predict. For MNIST, there are 10 classes (one for each digit from 0 to 9).\n",
        "* learning_rate = 0.001: This is the step size used for each iteration of the model training process. A learning rate that's too high can cause the model to converge too quickly to a suboptimal solution, and one that's too low might make the training process too slow.\n",
        "* num_epochs = 5: This indicates the number of times the entire dataset is passed forward and backward through the neural network.\n",
        "* model = NN(input_size, num_classes): This line creates an instance of the NN class defined earlier, initializing a new neural network with the specified input_size and num_classes.\n",
        "* .to(device): This method moves the model to the specified device (either GPU or CPU), ensuring that all calculations for this model are performed on that device. This is critical for performance when training on a GPU.\n",
        "* nn.CrossEntropyLoss(): This selects the cross-entropy loss as the loss function for the model. Cross-entropy loss is commonly used for classification tasks, as it measures the dissimilarity between the true label distribution and the predictions by the model.\n",
        "* optim.Adam(model.parameters(), lr=learning_rate): This line initializes an Adam optimizer, a popular choice for training deep learning models. Adam combines the advantages of two other extensions of stochastic gradient descent: Adaptive Gradient Algorithm (AdaGrad) and Root Mean Square Propagation (RMSProp).\n",
        "\n",
        "**Step 6: Training the Model**"
      ]
    },
    {
      "cell_type": "code",
      "execution_count": 17,
      "metadata": {
        "colab": {
          "base_uri": "https://localhost:8080/"
        },
        "id": "hWqvWNL2RqEM",
        "outputId": "5199747c-757a-41b0-9f62-9066d3937129"
      },
      "outputs": [
        {
          "name": "stdout",
          "output_type": "stream",
          "text": [
            "Epoch: 0\n",
            "torch.Size([64, 784])\n",
            "Epoch: 1\n",
            "Epoch: 2\n",
            "Epoch: 3\n",
            "Epoch: 4\n"
          ]
        }
      ],
      "source": [
        "# Train Network\n",
        "for epoch in range(num_epochs):\n",
        "# 1 epoch => Network has seen all the images in the dataset\n",
        "\n",
        "    print(f'Epoch: {epoch}')\n",
        "\n",
        "    for batch_idx, (data, targets) in enumerate(train_loader):\n",
        "\n",
        "        data = data.to(device=device)\n",
        "        targets = targets.to(device=device)\n",
        "\n",
        "        # print(data.shape)  # => [64 , 1, 28, 28] => 64 : num_images, 1 -> num_channels, (28,28): (height, width)\n",
        "        data = data.reshape(data.shape[0], -1)  # Flatten\n",
        "        if epoch == 0 and batch_idx == 0:\n",
        "            print(data.shape)\n",
        "\n",
        "        # forward\n",
        "        scores = model(data)\n",
        "\n",
        "        loss = criterion(scores, targets)\n",
        "\n",
        "        # backward\n",
        "        optimizer.zero_grad()  # set all gradients to zero for each batch\n",
        "        loss.backward()\n",
        "\n",
        "        # gradient descent\n",
        "        optimizer.step()"
      ]
    },
    {
      "cell_type": "markdown",
      "metadata": {
        "id": "7Ct6qY-BRypX"
      },
      "source": [
        "* Epoch Loop: Each epoch represents one complete pass over the entire training dataset.\n",
        "* Data Loading: train_loader iterates over the dataset and returns batches of data (data) and their corresponding labels (targets). batch_idx is the index of the batch within the current epoch.\n",
        "* Data Reshaping: Since the input to your neural network needs to be a flat vector (as the network starts with a linear layer expecting input_size features), the data is reshaped from [batch_size, 1, 28, 28] (the shape for MNIST images in batches) to [batch_size, 784] using the reshape method.\n",
        "* Model Forward Pass: The model processes the batch of data (data) and returns scores, which are the raw model outputs (logits) for each class.\n",
        "* Loss Calculation: The loss is computed using the criterion defined earlier (cross-entropy loss).\n",
        "* Zero Gradients: Before the backward pass, all the gradients of the model’s parameters are reset to zero. This is necessary because, by default, gradients are accumulated in PyTorch.\n",
        "* Backpropagation: loss.backward() computes the gradient of the loss with respect to all trainable parameters in the model. These gradients are used by the optimizer to update model parameters.\n",
        "* Gradient Descent Step: The optimizer updates the model parameters using the gradients computed during backpropagation according to the Adam optimization algorithm and the specified learning rate.\n",
        "\n",
        "**Step 7: Evaluate the Model**\n",
        "\n",
        "The check_accuracy function evaluates the performance of a neural network on a given dataset by calculating the accuracy, which is the percentage of correct predictions made by the model. It sets the model to evaluation mode and disables gradient computation to enhance performance."
      ]
    },
    {
      "cell_type": "code",
      "execution_count": 18,
      "metadata": {
        "colab": {
          "base_uri": "https://localhost:8080/"
        },
        "id": "sKuZtFJ9SKpV",
        "outputId": "6ec410d8-d74f-417b-cfde-a23379b71496"
      },
      "outputs": [
        {
          "name": "stdout",
          "output_type": "stream",
          "text": [
            "Accuracy on training data\n",
            "Got 58451/60000 with accuracy  97.42\n",
            "Accuracy on testing data\n",
            "Got 9681/10000 with accuracy  96.81\n"
          ]
        }
      ],
      "source": [
        "def check_accuracy(loader, model):\n",
        "\n",
        "    if loader.dataset.train:\n",
        "        print(\"Accuracy on training data\")\n",
        "    else:\n",
        "        print(\"Accuracy on testing data\")\n",
        "\n",
        "    num_correct = 0\n",
        "    num_samples = 0\n",
        "    model.eval()\n",
        "\n",
        "    with torch.no_grad():  # dont compute gradients\n",
        "        for x, y in loader:\n",
        "            x = x.to(device=device)\n",
        "            y = y.to(device=device)\n",
        "            x = x.reshape(x.shape[0],-1)\n",
        "\n",
        "            scores = model(x)\n",
        "            _, predictions = scores.max(1)\n",
        "\n",
        "            # print(predictions)\n",
        "\n",
        "            num_correct += (predictions == y).sum()\n",
        "            num_samples += predictions.size(0)\n",
        "\n",
        "        print(f'Got {num_correct}/{num_samples} with accuracy {float(num_correct)/float(num_samples)*100: .2f}')\n",
        "\n",
        "    model.train()\n",
        "\n",
        "\n",
        "check_accuracy(train_loader, model)\n",
        "check_accuracy(test_loader, model)"
      ]
    },
    {
      "cell_type": "markdown",
      "metadata": {
        "id": "-DHnynuhSRyy"
      },
      "source": [
        "torch.no_grad(): This context manager tells PyTorch not to calculate gradients during the operations performed within its scope. This reduces memory consumption and speeds up computations, as gradients are not needed for model evaluation."
      ]
    },
    {
      "cell_type": "markdown",
      "metadata": {
        "id": "ivy3LViidB9V"
      },
      "source": [
        "\n",
        "\n",
        "---\n",
        "\n",
        "\n",
        "\n",
        "---\n",
        "\n",
        "\n",
        "\n",
        "---\n",
        "\n"
      ]
    },
    {
      "cell_type": "markdown",
      "metadata": {
        "id": "bxTYVO8KdDso"
      },
      "source": [
        "# <font color=red> **Graph Neural Networks GNN**\n",
        "\n",
        "\n",
        "\n",
        "---\n",
        "\n"
      ]
    },
    {
      "cell_type": "markdown",
      "metadata": {
        "id": "aHQAIbRKdW7I"
      },
      "source": [
        "###Full-length tutorial on Tracking with Graph Neural Networks (Sep 2023, Heidelberg):\n",
        "\n",
        "* Part 1: https://docs.google.com/presentation/d/1-KiBNv_dSqPR8eVT5bn1wmtb2eYapFCQ/edit?usp=drive_link&ouid=118107420270463269959&rtpof=true&sd=true\n",
        "\n",
        "* Part 2: https://docs.google.com/presentation/d/1xXUqYo3_6dJ7Bi7CxtF-fHVHKwglTIjC/edit?usp=sharing&ouid=118107420270463269959&rtpof=true&sd=true\n",
        "\n"
      ]
    }
  ],
  "metadata": {
    "accelerator": "GPU",
    "colab": {
      "authorship_tag": "ABX9TyNqSL5sL+Y92aasfGzBW0pi",
      "gpuType": "T4",
      "include_colab_link": true,
      "provenance": []
    },
    "kernelspec": {
      "display_name": "Python 3",
      "name": "python3"
    },
    "language_info": {
      "name": "python"
    }
  },
  "nbformat": 4,
  "nbformat_minor": 0
}
